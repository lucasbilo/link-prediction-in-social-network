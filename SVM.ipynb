{
  "cells": [
    {
      "cell_type": "code",
      "execution_count": 1,
      "metadata": {
        "colab": {
          "base_uri": "https://localhost:8080/"
        },
        "id": "GZGyBKRrIoWH",
        "outputId": "65f6c510-1aad-47ea-be32-66ac9b9c6425"
      },
      "outputs": [
        {
          "output_type": "stream",
          "name": "stdout",
          "text": [
            "Mounted at /content/drive\n"
          ]
        }
      ],
      "source": [
        "from google.colab import drive\n",
        "drive.mount('/content/drive')"
      ]
    },
    {
      "cell_type": "code",
      "execution_count": 2,
      "metadata": {
        "id": "CFqnZVOrIu57"
      },
      "outputs": [],
      "source": [
        "import pandas as pd\n",
        "import numpy as np\n",
        "from sklearn.model_selection import RandomizedSearchCV\n",
        "from sklearn.metrics import classification_report, roc_auc_score\n",
        "import matplotlib.pyplot as plt\n",
        "from sklearn.metrics import confusion_matrix\n",
        "import seaborn as sns\n",
        "from sklearn.svm import SVC\n",
        "\n",
        "from warnings import simplefilter\n",
        "simplefilter(action='ignore', category=FutureWarning)"
      ]
    },
    {
      "cell_type": "code",
      "execution_count": 3,
      "metadata": {
        "id": "FISOp2U7I3Ka"
      },
      "outputs": [],
      "source": [
        "train = pd.read_csv(\"/content/drive/MyDrive/ES_Twitch_Dataset/Train_Final.csv\")\n",
        "test = pd.read_csv(\"/content/drive/MyDrive/ES_Twitch_Dataset/Test_Final.csv\")"
      ]
    },
    {
      "cell_type": "code",
      "execution_count": 4,
      "metadata": {
        "id": "SXRM4-C3I4cw"
      },
      "outputs": [],
      "source": [
        "x_train = train.drop({'Target', 'Unnamed: 0'}, axis = 1)\n",
        "y_train = train['Target']"
      ]
    },
    {
      "cell_type": "code",
      "execution_count": 5,
      "metadata": {
        "id": "o6AmPViXI5bW"
      },
      "outputs": [],
      "source": [
        "x_test = test.drop({'Target', 'Unnamed: 0'}, axis = 1)\n",
        "y_test = test['Target']"
      ]
    },
    {
      "cell_type": "code",
      "execution_count": 10,
      "metadata": {
        "id": "9cTs7aZDI6e0"
      },
      "outputs": [],
      "source": [
        "svc = SVC(random_state=123, probability=True)\n",
        "\n",
        "params = { \"C\": [0.01, 0.1, 1],\n",
        "            \"degree\": [2, 3],\n",
        "            \"kernel\": ['poly', 'rbf'],\n",
        "          }\n",
        "\n",
        "model = RandomizedSearchCV(svc, params, random_state=123, n_jobs = 1, n_iter = 3, cv = 2, scoring=\"roc_auc\")"
      ]
    },
    {
      "cell_type": "markdown",
      "metadata": {
        "id": "tjqmvaW2I8Vy"
      },
      "source": [
        "### Entreno el modelo"
      ]
    },
    {
      "cell_type": "code",
      "execution_count": 11,
      "metadata": {
        "colab": {
          "base_uri": "https://localhost:8080/"
        },
        "id": "wysyjISUKiYw",
        "outputId": "6532c756-216e-4fc7-e4c7-cce6ad7ee931"
      },
      "outputs": [
        {
          "output_type": "execute_result",
          "data": {
            "text/plain": [
              "RandomizedSearchCV(cv=2, estimator=SVC(probability=True, random_state=123),\n",
              "                   n_iter=3, n_jobs=1,\n",
              "                   param_distributions={'C': [0.01, 0.1, 1], 'degree': [2, 3],\n",
              "                                        'kernel': ['poly', 'rbf']},\n",
              "                   random_state=123, scoring='roc_auc')"
            ]
          },
          "metadata": {},
          "execution_count": 11
        }
      ],
      "source": [
        "model.fit(x_train, y_train)"
      ]
    },
    {
      "cell_type": "markdown",
      "metadata": {
        "id": "M4u-YOKlKm3d"
      },
      "source": [
        "Mejores hiperparametros encontrados"
      ]
    },
    {
      "cell_type": "code",
      "execution_count": 12,
      "metadata": {
        "colab": {
          "base_uri": "https://localhost:8080/"
        },
        "id": "R9lLKSqGMKEM",
        "outputId": "b3faa668-f6b7-4df6-8df4-d727ccfc6604"
      },
      "outputs": [
        {
          "output_type": "execute_result",
          "data": {
            "text/plain": [
              "{'C': 0.1,\n",
              " 'break_ties': False,\n",
              " 'cache_size': 200,\n",
              " 'class_weight': None,\n",
              " 'coef0': 0.0,\n",
              " 'decision_function_shape': 'ovr',\n",
              " 'degree': 2,\n",
              " 'gamma': 'scale',\n",
              " 'kernel': 'poly',\n",
              " 'max_iter': -1,\n",
              " 'probability': True,\n",
              " 'random_state': 123,\n",
              " 'shrinking': True,\n",
              " 'tol': 0.001,\n",
              " 'verbose': False}"
            ]
          },
          "metadata": {},
          "execution_count": 12
        }
      ],
      "source": [
        "best_params = model.best_estimator_.get_params()\n",
        "best_params"
      ]
    },
    {
      "cell_type": "markdown",
      "metadata": {
        "id": "Sck2UkgYMNFh"
      },
      "source": [
        "El Randomized Search ya me devuelve el mejor modelo posible, así que no es necesario volver a entrenar."
      ]
    },
    {
      "cell_type": "markdown",
      "metadata": {
        "id": "LD9in8blMOqd"
      },
      "source": [
        "## Scores"
      ]
    },
    {
      "cell_type": "markdown",
      "metadata": {
        "id": "bi-sxJnpMRLb"
      },
      "source": [
        "Calculo el score para el set de entrenamiento"
      ]
    },
    {
      "cell_type": "code",
      "execution_count": 13,
      "metadata": {
        "colab": {
          "base_uri": "https://localhost:8080/"
        },
        "id": "kS_mf3uKMLgX",
        "outputId": "ded15335-9758-4b95-fb79-a28ccd71f0e8"
      },
      "outputs": [
        {
          "output_type": "execute_result",
          "data": {
            "text/plain": [
              "0.9208888535557638"
            ]
          },
          "metadata": {},
          "execution_count": 13
        }
      ],
      "source": [
        "roc_auc_score(y_train, model.predict_proba(x_train)[:,1])"
      ]
    },
    {
      "cell_type": "markdown",
      "metadata": {
        "id": "RymjoqH4MSgH"
      },
      "source": [
        "Calculo el score para el set de test:"
      ]
    },
    {
      "cell_type": "code",
      "execution_count": 14,
      "metadata": {
        "colab": {
          "base_uri": "https://localhost:8080/"
        },
        "id": "lzRbjBC0MTkT",
        "outputId": "44d757e9-84a3-4cfa-e489-97fe0ae34787"
      },
      "outputs": [
        {
          "output_type": "execute_result",
          "data": {
            "text/plain": [
              "0.8479780321609922"
            ]
          },
          "metadata": {},
          "execution_count": 14
        }
      ],
      "source": [
        "roc_auc_score(y_test, model.predict_proba(x_test)[:,1])"
      ]
    },
    {
      "cell_type": "markdown",
      "metadata": {
        "id": "NIXPPUYjMV4T"
      },
      "source": [
        "## Matriz de Confusión"
      ]
    },
    {
      "cell_type": "code",
      "execution_count": 15,
      "metadata": {
        "id": "cql--78GMVmr",
        "colab": {
          "base_uri": "https://localhost:8080/",
          "height": 542
        },
        "outputId": "67c801ee-83de-4381-d42a-92452c33630c"
      },
      "outputs": [
        {
          "output_type": "execute_result",
          "data": {
            "text/plain": [
              "Text(0.5, 1.0, 'Confusion matrix')"
            ]
          },
          "metadata": {},
          "execution_count": 15
        },
        {
          "output_type": "display_data",
          "data": {
            "text/plain": [
              "<Figure size 1080x576 with 2 Axes>"
            ],
            "image/png": "[encoded data removed]"
          },
          "metadata": {
            "needs_background": "light"
          }
        }
      ],
      "source": [
        "C = confusion_matrix(y_test, model.predict(x_test))  \n",
        "plt.figure(figsize=(15,8))\n",
        "labels = [0,1]\n",
        "sns.heatmap(C, annot=True, cmap=\"Blues\", fmt=\"d\", xticklabels=labels, yticklabels=labels, annot_kws={'size': 15})\n",
        "plt.xlabel('Predicted Values', fontsize=18, fontweight='bold')\n",
        "plt.ylabel('Original Values', fontsize=18, fontweight='bold')\n",
        "plt.title(\"Confusion matrix\", fontsize = 18, fontweight='bold')"
      ]
    }
  ],
  "metadata": {
    "colab": {
      "collapsed_sections": [],
      "name": "SVM.ipynb",
      "provenance": []
    },
    "kernelspec": {
      "display_name": "Python 3",
      "name": "python3"
    },
    "language_info": {
      "name": "python"
    }
  },
  "nbformat": 4,
  "nbformat_minor": 0
}