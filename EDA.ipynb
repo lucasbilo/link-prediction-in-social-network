{
  "nbformat": 4,
  "nbformat_minor": 0,
  "metadata": {
    "colab": {
      "name": "EDA.ipynb",
      "provenance": [],
      "collapsed_sections": []
    },
    "kernelspec": {
      "name": "python3",
      "display_name": "Python 3"
    },
    "language_info": {
      "name": "python"
    }
  },
  "cells": [
    {
      "cell_type": "markdown",
      "source": [
        "# Exploratory Data Analysis (EDA)\n",
        "\n",
        "Analisis de la red y preparación para la clasificación"
      ],
      "metadata": {
        "id": "u_2OK2qv5T-I"
      }
    },
    {
      "cell_type": "code",
      "source": [
        "from google.colab import drive\n",
        "drive.mount('/content/drive')"
      ],
      "metadata": {
        "id": "m5zRqxktl0Sm",
        "colab": {
          "base_uri": "https://localhost:8080/"
        },
        "outputId": "25416446-3517-4cdc-b1d2-805902ece478"
      },
      "execution_count": null,
      "outputs": [
        {
          "output_type": "stream",
          "name": "stdout",
          "text": [
            "Mounted at /content/drive\n"
          ]
        }
      ]
    },
    {
      "cell_type": "code",
      "source": [
        "import pandas as pd\n",
        "import numpy as np\n",
        "import networkx as nx\n",
        "import random\n",
        "import csv\n",
        "import pickle"
      ],
      "metadata": {
        "id": "ThzConbicoWp"
      },
      "execution_count": null,
      "outputs": []
    },
    {
      "cell_type": "code",
      "source": [
        "edges = open('/content/drive/MyDrive/ES_Twitch_Dataset/ES_edges.csv')\n",
        "next(edges)\n",
        "grafo = nx.read_edgelist(edges, create_using=nx.DiGraph(), delimiter=',', nodetype=int)"
      ],
      "metadata": {
        "id": "vT7Qg9hi9a8e"
      },
      "execution_count": null,
      "outputs": []
    },
    {
      "cell_type": "markdown",
      "source": [
        "Datos de la red:"
      ],
      "metadata": {
        "id": "Hmrmt3L2Ex9A"
      }
    },
    {
      "cell_type": "code",
      "source": [
        "print(\"Nodos:\", len(grafo.nodes))\n",
        "print(\"Aristas:\", len(grafo.edges))"
      ],
      "metadata": {
        "colab": {
          "base_uri": "https://localhost:8080/"
        },
        "id": "NBWLa7tnAW0C",
        "outputId": "76e93295-894c-4e95-d328-ffc52df46446"
      },
      "execution_count": null,
      "outputs": [
        {
          "output_type": "stream",
          "name": "stdout",
          "text": [
            "Nodos: 4648\n",
            "Aristas: 59382\n"
          ]
        }
      ]
    },
    {
      "cell_type": "code",
      "source": [
        "in_degree = list(dict(grafo.in_degree()).values())\n",
        "total = sum(np.array(in_degree) == 0)\n",
        "print(\"Cantidad de nodos sin seguidores: \", total)\n",
        "print(\"Grado promedio de seguidores: \", sum(np.array(in_degree))  / len(in_degree))\n",
        "print(\"Porcentaje de nodos sin seguidores: \", total * 100 / len(in_degree))"
      ],
      "metadata": {
        "colab": {
          "base_uri": "https://localhost:8080/"
        },
        "id": "Gxot6__qCatO",
        "outputId": "6c01e5c7-2d09-4b59-fd79-4f3831c094fe"
      },
      "execution_count": null,
      "outputs": [
        {
          "output_type": "stream",
          "name": "stdout",
          "text": [
            "Cantidad de nodos sin seguidores:  599\n",
            "Grado promedio de seguidores:  12.775817555938039\n",
            "Porcentaje de nodos sin seguidores:  12.887263339070568\n"
          ]
        }
      ]
    },
    {
      "cell_type": "code",
      "source": [
        "out_degree = list(dict(grafo.out_degree()).values())\n",
        "total = sum(np.array(out_degree) == 0)\n",
        "print(\"Cantidad de nodos que no siguen a nadie: \", total)\n",
        "print(\"Grado promedio de siguiendo: \", sum(np.array(out_degree))  / len(out_degree))\n",
        "print(\"Porcentaje de nodos que no siguen a nadie: \", total * 100 / len(out_degree))"
      ],
      "metadata": {
        "id": "a4z8V3hr5TaN",
        "colab": {
          "base_uri": "https://localhost:8080/"
        },
        "outputId": "4d145905-b315-41a8-b81b-9c9c65c87e83"
      },
      "execution_count": null,
      "outputs": [
        {
          "output_type": "stream",
          "name": "stdout",
          "text": [
            "Cantidad de nodos que no siguen a nadie:  620\n",
            "Grado promedio de siguiendo:  12.775817555938039\n",
            "Porcentaje de nodos que no siguen a nadie:  13.33907056798623\n"
          ]
        }
      ]
    },
    {
      "cell_type": "code",
      "source": [
        "print(\"Nodo con más seguidores: \", max(in_degree))\n",
        "print(\"Nodo que mas sigue: \", max(out_degree))"
      ],
      "metadata": {
        "colab": {
          "base_uri": "https://localhost:8080/"
        },
        "id": "98aYEZa76dU7",
        "outputId": "f77448b1-d710-4f11-9527-b8958f208fe3"
      },
      "execution_count": null,
      "outputs": [
        {
          "output_type": "stream",
          "name": "stdout",
          "text": [
            "Nodo con más seguidores:  809\n",
            "Nodo que mas sigue:  618\n"
          ]
        }
      ]
    },
    {
      "cell_type": "markdown",
      "source": [
        "# Preparación de la red para la clasificación"
      ],
      "metadata": {
        "id": "rsmTlM7zFnbS"
      }
    },
    {
      "cell_type": "markdown",
      "source": [
        "En este momento, solo tenemos nodos que están conectados. Al ser un problema de clasificación, vamos a necesitar nodos que no esten conectados. Así que voy a generar algunos de modo random, los mismos van a tener por lo menos distancia 2 de camino más corto entre ellos."
      ],
      "metadata": {
        "id": "ahcs2D7ZFq_X"
      }
    },
    {
      "cell_type": "code",
      "source": [
        "pd.read_csv('/content/drive/MyDrive/ES_Twitch_Dataset/ES_edges.csv').to_csv('/content/drive/MyDrive/ES_Twitch_Dataset/aux.csv', header = False, index = False)\n",
        "df = csv.reader(open('/content/drive/MyDrive/ES_Twitch_Dataset/aux.csv', 'r'))\n",
        "edges = dict() \n",
        "for edge in df:\n",
        "    edges[(edge[0], edge[1])] = 1 #cargo las conexiones que ya existen"
      ],
      "metadata": {
        "id": "EtizlNwcFmie"
      },
      "execution_count": null,
      "outputs": []
    },
    {
      "cell_type": "code",
      "source": [
        "missing_edges = set([])\n",
        "\n",
        "# Como maximo voy a tener la misma cantidad de conexiones y no conexiones.\n",
        "while (len(missing_edges) < len(grafo.edges)):\n",
        "    a=random.randint(1, len(grafo.nodes))\n",
        "    b=random.randint(1, len(grafo.nodes))\n",
        "    tmp = edges.get((a, b), -1)\n",
        "    if tmp == -1 and a != b:\n",
        "        try:\n",
        "            if nx.shortest_path_length(grafo, source = a, target = b) > 2: \n",
        "                missing_edges.add((a,b))\n",
        "            else:\n",
        "                continue  \n",
        "        except:  \n",
        "                missing_edges.add((a,b))              \n",
        "    else:\n",
        "        continue"
      ],
      "metadata": {
        "id": "gJuN4K7sdJeJ"
      },
      "execution_count": null,
      "outputs": []
    },
    {
      "cell_type": "code",
      "source": [
        "len(missing_edges)"
      ],
      "metadata": {
        "colab": {
          "base_uri": "https://localhost:8080/"
        },
        "id": "lxun7y9V-Apm",
        "outputId": "c327429f-deda-465d-c5fe-78733a8b638d"
      },
      "execution_count": null,
      "outputs": [
        {
          "output_type": "execute_result",
          "data": {
            "text/plain": [
              "59382"
            ]
          },
          "metadata": {},
          "execution_count": 13
        }
      ]
    },
    {
      "cell_type": "code",
      "source": [
        "missing_df = pd.DataFrame(list(missing_edges), columns = ['from', 'to']) \n",
        "missing_df.to_csv('/content/drive/MyDrive/ES_Twitch_Dataset/missing_edges.csv') #lo guardo por las dudas"
      ],
      "metadata": {
        "id": "rSiSYnPEitH_"
      },
      "execution_count": null,
      "outputs": []
    },
    {
      "cell_type": "markdown",
      "source": [
        "Ahora junto ambos dataframes, para quedarme con el final."
      ],
      "metadata": {
        "id": "9uTGJW7JG52n"
      }
    },
    {
      "cell_type": "code",
      "source": [
        "edges_df = pd.read_csv('/content/drive/MyDrive/ES_Twitch_Dataset/ES_edges.csv', encoding='latin-1')\n",
        "edges_df['Target'] = 1\n",
        "missing_df['Target'] = 0"
      ],
      "metadata": {
        "id": "N_cA1ANQH4Hn"
      },
      "execution_count": null,
      "outputs": []
    },
    {
      "cell_type": "code",
      "source": [
        "df_final = pd.concat([edges_df, missing_df])\n",
        "df_final.rename(columns={'from': 'Source', 'to': 'Destination'}, inplace = True)\n",
        "df_final.head()"
      ],
      "metadata": {
        "colab": {
          "base_uri": "https://localhost:8080/",
          "height": 206
        },
        "id": "hZ2tXRAFILmg",
        "outputId": "932201d5-24d2-40e5-c82e-11abd5a82792"
      },
      "execution_count": null,
      "outputs": [
        {
          "output_type": "execute_result",
          "data": {
            "text/plain": [
              "   Source  Destination  Target\n",
              "0       0         1819       1\n",
              "1       0         2840       1\n",
              "2       1         1565       1\n",
              "3       1         1309       1\n",
              "4       1         1397       1"
            ],
            "text/html": [
              "\n",
              "  <div id=\"df-e65b3171-a4cc-46c0-a7e7-22837fbebc70\">\n",
              "    <div class=\"colab-df-container\">\n",
              "      <div>\n",
              "<style scoped>\n",
              "    .dataframe tbody tr th:only-of-type {\n",
              "        vertical-align: middle;\n",
              "    }\n",
              "\n",
              "    .dataframe tbody tr th {\n",
              "        vertical-align: top;\n",
              "    }\n",
              "\n",
              "    .dataframe thead th {\n",
              "        text-align: right;\n",
              "    }\n",
              "</style>\n",
              "<table border=\"1\" class=\"dataframe\">\n",
              "  <thead>\n",
              "    <tr style=\"text-align: right;\">\n",
              "      <th></th>\n",
              "      <th>Source</th>\n",
              "      <th>Destination</th>\n",
              "      <th>Target</th>\n",
              "    </tr>\n",
              "  </thead>\n",
              "  <tbody>\n",
              "    <tr>\n",
              "      <th>0</th>\n",
              "      <td>0</td>\n",
              "      <td>1819</td>\n",
              "      <td>1</td>\n",
              "    </tr>\n",
              "    <tr>\n",
              "      <th>1</th>\n",
              "      <td>0</td>\n",
              "      <td>2840</td>\n",
              "      <td>1</td>\n",
              "    </tr>\n",
              "    <tr>\n",
              "      <th>2</th>\n",
              "      <td>1</td>\n",
              "      <td>1565</td>\n",
              "      <td>1</td>\n",
              "    </tr>\n",
              "    <tr>\n",
              "      <th>3</th>\n",
              "      <td>1</td>\n",
              "      <td>1309</td>\n",
              "      <td>1</td>\n",
              "    </tr>\n",
              "    <tr>\n",
              "      <th>4</th>\n",
              "      <td>1</td>\n",
              "      <td>1397</td>\n",
              "      <td>1</td>\n",
              "    </tr>\n",
              "  </tbody>\n",
              "</table>\n",
              "</div>\n",
              "      <button class=\"colab-df-convert\" onclick=\"convertToInteractive('df-e65b3171-a4cc-46c0-a7e7-22837fbebc70')\"\n",
              "              title=\"Convert this dataframe to an interactive table.\"\n",
              "              style=\"display:none;\">\n",
              "        \n",
              "  <svg xmlns=\"http://www.w3.org/2000/svg\" height=\"24px\"viewBox=\"0 0 24 24\"\n",
              "       width=\"24px\">\n",
              "    <path d=\"M0 0h24v24H0V0z\" fill=\"none\"/>\n",
              "    <path d=\"M18.56 5.44l.94 2.06.94-2.06 2.06-.94-2.06-.94-.94-2.06-.94 2.06-2.06.94zm-11 1L8.5 8.5l.94-2.06 2.06-.94-2.06-.94L8.5 2.5l-.94 2.06-2.06.94zm10 10l.94 2.06.94-2.06 2.06-.94-2.06-.94-.94-2.06-.94 2.06-2.06.94z\"/><path d=\"M17.41 7.96l-1.37-1.37c-.4-.4-.92-.59-1.43-.59-.52 0-1.04.2-1.43.59L10.3 9.45l-7.72 7.72c-.78.78-.78 2.05 0 2.83L4 21.41c.39.39.9.59 1.41.59.51 0 1.02-.2 1.41-.59l7.78-7.78 2.81-2.81c.8-.78.8-2.07 0-2.86zM5.41 20L4 18.59l7.72-7.72 1.47 1.35L5.41 20z\"/>\n",
              "  </svg>\n",
              "      </button>\n",
              "      \n",
              "  <style>\n",
              "    .colab-df-container {\n",
              "      display:flex;\n",
              "      flex-wrap:wrap;\n",
              "      gap: 12px;\n",
              "    }\n",
              "\n",
              "    .colab-df-convert {\n",
              "      background-color: #E8F0FE;\n",
              "      border: none;\n",
              "      border-radius: 50%;\n",
              "      cursor: pointer;\n",
              "      display: none;\n",
              "      fill: #1967D2;\n",
              "      height: 32px;\n",
              "      padding: 0 0 0 0;\n",
              "      width: 32px;\n",
              "    }\n",
              "\n",
              "    .colab-df-convert:hover {\n",
              "      background-color: #E2EBFA;\n",
              "      box-shadow: 0px 1px 2px rgba(60, 64, 67, 0.3), 0px 1px 3px 1px rgba(60, 64, 67, 0.15);\n",
              "      fill: #174EA6;\n",
              "    }\n",
              "\n",
              "    [theme=dark] .colab-df-convert {\n",
              "      background-color: #3B4455;\n",
              "      fill: #D2E3FC;\n",
              "    }\n",
              "\n",
              "    [theme=dark] .colab-df-convert:hover {\n",
              "      background-color: #434B5C;\n",
              "      box-shadow: 0px 1px 3px 1px rgba(0, 0, 0, 0.15);\n",
              "      filter: drop-shadow(0px 1px 2px rgba(0, 0, 0, 0.3));\n",
              "      fill: #FFFFFF;\n",
              "    }\n",
              "  </style>\n",
              "\n",
              "      <script>\n",
              "        const buttonEl =\n",
              "          document.querySelector('#df-e65b3171-a4cc-46c0-a7e7-22837fbebc70 button.colab-df-convert');\n",
              "        buttonEl.style.display =\n",
              "          google.colab.kernel.accessAllowed ? 'block' : 'none';\n",
              "\n",
              "        async function convertToInteractive(key) {\n",
              "          const element = document.querySelector('#df-e65b3171-a4cc-46c0-a7e7-22837fbebc70');\n",
              "          const dataTable =\n",
              "            await google.colab.kernel.invokeFunction('convertToInteractive',\n",
              "                                                     [key], {});\n",
              "          if (!dataTable) return;\n",
              "\n",
              "          const docLinkHtml = 'Like what you see? Visit the ' +\n",
              "            '<a target=\"_blank\" href=https://colab.research.google.com/notebooks/data_table.ipynb>data table notebook</a>'\n",
              "            + ' to learn more about interactive tables.';\n",
              "          element.innerHTML = '';\n",
              "          dataTable['output_type'] = 'display_data';\n",
              "          await google.colab.output.renderOutput(dataTable, element);\n",
              "          const docLink = document.createElement('div');\n",
              "          docLink.innerHTML = docLinkHtml;\n",
              "          element.appendChild(docLink);\n",
              "        }\n",
              "      </script>\n",
              "    </div>\n",
              "  </div>\n",
              "  "
            ]
          },
          "metadata": {},
          "execution_count": 24
        }
      ]
    },
    {
      "cell_type": "code",
      "source": [
        "df_final.shape"
      ],
      "metadata": {
        "colab": {
          "base_uri": "https://localhost:8080/"
        },
        "id": "cwyDAXT2I9Tg",
        "outputId": "49a1146d-8014-475b-d464-974fc80c1fe5"
      },
      "execution_count": null,
      "outputs": [
        {
          "output_type": "execute_result",
          "data": {
            "text/plain": [
              "(118764, 3)"
            ]
          },
          "metadata": {},
          "execution_count": 25
        }
      ]
    },
    {
      "cell_type": "code",
      "source": [
        "df_final.to_csv('/content/drive/MyDrive/ES_Twitch_Dataset/Final_Edges.csv')"
      ],
      "metadata": {
        "id": "tU7S0fpkJTno"
      },
      "execution_count": null,
      "outputs": []
    },
    {
      "cell_type": "markdown",
      "source": [
        "Teniendo esto ya puedo avanzar con el Featuring"
      ],
      "metadata": {
        "id": "Ey7Ur85H-Ddq"
      }
    }
  ]
}