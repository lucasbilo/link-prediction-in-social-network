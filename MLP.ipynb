{
  "nbformat": 4,
  "nbformat_minor": 0,
  "metadata": {
    "colab": {
      "name": "MLP.ipynb",
      "provenance": [],
      "collapsed_sections": []
    },
    "kernelspec": {
      "name": "python3",
      "display_name": "Python 3"
    },
    "language_info": {
      "name": "python"
    }
  },
  "cells": [
    {
      "cell_type": "code",
      "execution_count": 1,
      "metadata": {
        "colab": {
          "base_uri": "https://localhost:8080/"
        },
        "id": "xI__RK6_Qh6h",
        "outputId": "cef71d6b-4c45-41d4-951c-f675061fb2a0"
      },
      "outputs": [
        {
          "output_type": "stream",
          "name": "stdout",
          "text": [
            "Mounted at /content/drive\n"
          ]
        }
      ],
      "source": [
        "from google.colab import drive\n",
        "drive.mount('/content/drive')"
      ]
    },
    {
      "cell_type": "code",
      "source": [
        "import pandas as pd\n",
        "import numpy as np\n",
        "from sklearn.model_selection import RandomizedSearchCV\n",
        "from sklearn.metrics import classification_report, roc_auc_score\n",
        "import matplotlib.pyplot as plt\n",
        "from sklearn.metrics import confusion_matrix\n",
        "import seaborn as sns\n",
        "from sklearn.neural_network import MLPClassifier\n",
        "\n",
        "from warnings import simplefilter\n",
        "simplefilter(action='ignore', category=FutureWarning)"
      ],
      "metadata": {
        "id": "OBFuoSr6QlcB"
      },
      "execution_count": 2,
      "outputs": []
    },
    {
      "cell_type": "code",
      "source": [
        "train = pd.read_csv(\"/content/drive/MyDrive/ES_Twitch_Dataset/Train_Final.csv\")\n",
        "test = pd.read_csv(\"/content/drive/MyDrive/ES_Twitch_Dataset/Test_Final.csv\")"
      ],
      "metadata": {
        "id": "QVfSulQRQrVI"
      },
      "execution_count": 3,
      "outputs": []
    },
    {
      "cell_type": "code",
      "source": [
        "x_train = train.drop({'Target', 'Unnamed: 0'}, axis = 1)\n",
        "y_train = train['Target']"
      ],
      "metadata": {
        "id": "cwP5OH-nQs_d"
      },
      "execution_count": 4,
      "outputs": []
    },
    {
      "cell_type": "code",
      "source": [
        "x_test = test.drop({'Target', 'Unnamed: 0'}, axis = 1)\n",
        "y_test = test['Target']"
      ],
      "metadata": {
        "id": "gAu7bttWQt13"
      },
      "execution_count": 5,
      "outputs": []
    },
    {
      "cell_type": "code",
      "source": [
        "mlp = MLPClassifier(random_state = 123)\n",
        "\n",
        "params = { \"hidden_layer_sizes\": [(100,), (200,), (300,)],\n",
        "           \"activation\": ['identity', 'logistic', 'tanh', 'relu'],\n",
        "           \"solver\": ['lbfgs', 'sgd', 'adam'],\n",
        "           \"alpha\": [0.0001, 0.001, 0.01],\n",
        "           \"learning_rate\": ['constant', 'invscaling', 'adaptive']\n",
        "         }\n",
        "\n",
        "model = RandomizedSearchCV(mlp, params, random_state=123, n_jobs = 1, n_iter = 15, cv = 5, scoring=\"roc_auc\")"
      ],
      "metadata": {
        "id": "AyyuXK1DQusf"
      },
      "execution_count": 7,
      "outputs": []
    },
    {
      "cell_type": "markdown",
      "source": [
        "## Entreno el modelo"
      ],
      "metadata": {
        "id": "op3ohZ7vSOE0"
      }
    },
    {
      "cell_type": "code",
      "source": [
        "model.fit(x_train, y_train)"
      ],
      "metadata": {
        "id": "B9HM1rU-SJa6"
      },
      "execution_count": null,
      "outputs": []
    },
    {
      "cell_type": "markdown",
      "source": [
        "Mejores hiperparametros encontrados"
      ],
      "metadata": {
        "id": "hV3QQ1ZRSSEh"
      }
    },
    {
      "cell_type": "code",
      "source": [
        "best_params = model.best_estimator_.get_params()\n",
        "best_params"
      ],
      "metadata": {
        "colab": {
          "base_uri": "https://localhost:8080/"
        },
        "id": "RKNKmd1ESQu7",
        "outputId": "edb00fad-0f83-4345-8b98-59d2e0fdb01e"
      },
      "execution_count": 9,
      "outputs": [
        {
          "output_type": "execute_result",
          "data": {
            "text/plain": [
              "{'activation': 'relu',\n",
              " 'alpha': 0.001,\n",
              " 'batch_size': 'auto',\n",
              " 'beta_1': 0.9,\n",
              " 'beta_2': 0.999,\n",
              " 'early_stopping': False,\n",
              " 'epsilon': 1e-08,\n",
              " 'hidden_layer_sizes': (100,),\n",
              " 'learning_rate': 'constant',\n",
              " 'learning_rate_init': 0.001,\n",
              " 'max_fun': 15000,\n",
              " 'max_iter': 200,\n",
              " 'momentum': 0.9,\n",
              " 'n_iter_no_change': 10,\n",
              " 'nesterovs_momentum': True,\n",
              " 'power_t': 0.5,\n",
              " 'random_state': 123,\n",
              " 'shuffle': True,\n",
              " 'solver': 'adam',\n",
              " 'tol': 0.0001,\n",
              " 'validation_fraction': 0.1,\n",
              " 'verbose': False,\n",
              " 'warm_start': False}"
            ]
          },
          "metadata": {},
          "execution_count": 9
        }
      ]
    },
    {
      "cell_type": "markdown",
      "source": [
        "## Scores"
      ],
      "metadata": {
        "id": "knKWuLYSSWzr"
      }
    },
    {
      "cell_type": "markdown",
      "source": [
        "Calculo el score para el set de entrenamiento"
      ],
      "metadata": {
        "id": "p51QDdkbSYn1"
      }
    },
    {
      "cell_type": "code",
      "source": [
        "roc_auc_score(y_train, model.predict_proba(x_train)[:,1])"
      ],
      "metadata": {
        "colab": {
          "base_uri": "https://localhost:8080/"
        },
        "id": "I6gqfViKSahY",
        "outputId": "ea426bb3-25f3-4d31-e35e-96cd9aaff22a"
      },
      "execution_count": 10,
      "outputs": [
        {
          "output_type": "execute_result",
          "data": {
            "text/plain": [
              "0.9177473064425068"
            ]
          },
          "metadata": {},
          "execution_count": 10
        }
      ]
    },
    {
      "cell_type": "markdown",
      "source": [
        "Calculo el score para el set de test:"
      ],
      "metadata": {
        "id": "lG1XTZFWSa1P"
      }
    },
    {
      "cell_type": "code",
      "source": [
        "roc_auc_score(y_test, model.predict_proba(x_test)[:,1])"
      ],
      "metadata": {
        "colab": {
          "base_uri": "https://localhost:8080/"
        },
        "id": "WCW0Tgo1SdgW",
        "outputId": "98e63eea-cec1-4379-d604-36bbd8edcab8"
      },
      "execution_count": 11,
      "outputs": [
        {
          "output_type": "execute_result",
          "data": {
            "text/plain": [
              "0.814309286311185"
            ]
          },
          "metadata": {},
          "execution_count": 11
        }
      ]
    },
    {
      "cell_type": "markdown",
      "source": [
        "## Matriz de confusión"
      ],
      "metadata": {
        "id": "qYcIfwBiSb2r"
      }
    },
    {
      "cell_type": "code",
      "source": [
        "C = confusion_matrix(y_test, model.predict(x_test))  \n",
        "plt.figure(figsize=(15,8))\n",
        "labels = [0,1]\n",
        "sns.heatmap(C, annot=True, cmap=\"Blues\", fmt=\"d\", xticklabels=labels, yticklabels=labels, annot_kws={'size': 15})\n",
        "plt.xlabel('Predicted Values', fontsize=18, fontweight='bold')\n",
        "plt.ylabel('Original Values', fontsize=18, fontweight='bold')\n",
        "plt.title(\"Confusion matrix\", fontsize = 18, fontweight='bold')"
      ],
      "metadata": {
        "colab": {
          "base_uri": "https://localhost:8080/",
          "height": 542
        },
        "id": "_8zVCzwGSiE5",
        "outputId": "e0080150-020a-4863-bfe9-2f7beb24e436"
      },
      "execution_count": 12,
      "outputs": [
        {
          "output_type": "execute_result",
          "data": {
            "text/plain": [
              "Text(0.5, 1.0, 'Confusion matrix')"
            ]
          },
          "metadata": {},
          "execution_count": 12
        },
        {
          "output_type": "display_data",
          "data": {
            "text/plain": [
              "<Figure size 1080x576 with 2 Axes>"
            ],
            "image/png": "[encoded data removed]"
          },
          "metadata": {
            "needs_background": "light"
          }
        }
      ]
    },
    {
      "cell_type": "markdown",
      "source": [
        "## Features mas importantes"
      ],
      "metadata": {
        "id": "7LjkPFjiSjen"
      }
    }
  ]
}