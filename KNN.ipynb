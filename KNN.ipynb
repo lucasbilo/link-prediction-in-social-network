{
  "nbformat": 4,
  "nbformat_minor": 0,
  "metadata": {
    "colab": {
      "name": "KNN.ipynb",
      "provenance": [],
      "collapsed_sections": []
    },
    "kernelspec": {
      "name": "python3",
      "display_name": "Python 3"
    },
    "language_info": {
      "name": "python"
    }
  },
  "cells": [
    {
      "cell_type": "code",
      "execution_count": null,
      "metadata": {
        "colab": {
          "base_uri": "https://localhost:8080/"
        },
        "id": "IQoltjPQONW3",
        "outputId": "ea45daa4-0c80-40a1-80ae-2d3f903f09a7"
      },
      "outputs": [
        {
          "output_type": "stream",
          "name": "stdout",
          "text": [
            "Mounted at /content/drive\n"
          ]
        }
      ],
      "source": [
        "from google.colab import drive\n",
        "drive.mount('/content/drive')"
      ]
    },
    {
      "cell_type": "code",
      "source": [
        "import pandas as pd\n",
        "import numpy as np\n",
        "from sklearn.model_selection import RandomizedSearchCV\n",
        "from sklearn.metrics import classification_report, roc_auc_score\n",
        "import matplotlib.pyplot as plt\n",
        "from sklearn.metrics import confusion_matrix\n",
        "import seaborn as sns\n",
        "from sklearn.neighbors import KNeighborsClassifier\n",
        "\n",
        "from warnings import simplefilter\n",
        "simplefilter(action='ignore', category=FutureWarning)"
      ],
      "metadata": {
        "id": "D7FKSzI4ORkS"
      },
      "execution_count": null,
      "outputs": []
    },
    {
      "cell_type": "code",
      "source": [
        "train = pd.read_csv(\"/content/drive/MyDrive/ES_Twitch_Dataset/Train_Final.csv\")\n",
        "test = pd.read_csv(\"/content/drive/MyDrive/ES_Twitch_Dataset/Test_Final.csv\")"
      ],
      "metadata": {
        "id": "RhFRPE2gOWd6"
      },
      "execution_count": null,
      "outputs": []
    },
    {
      "cell_type": "code",
      "source": [
        "x_train = train.drop({'Target', 'Unnamed: 0'}, axis = 1)\n",
        "y_train = train['Target']"
      ],
      "metadata": {
        "id": "KI0l6uPbOXZ_"
      },
      "execution_count": null,
      "outputs": []
    },
    {
      "cell_type": "code",
      "source": [
        "x_test = test.drop({'Target', 'Unnamed: 0'}, axis = 1)\n",
        "y_test = test['Target']"
      ],
      "metadata": {
        "id": "ySwqo-dqOYe3"
      },
      "execution_count": null,
      "outputs": []
    },
    {
      "cell_type": "code",
      "source": [
        "# knn = KNeighborsClassifier()\n",
        "\n",
        "# params = { \"n_neighbors\": [5, 10, 15],\n",
        "#            \"algorithm\": ['kd_tree', 'ball_tree'],\n",
        "#            \"weights\": ['uniform', 'distance'],\n",
        "#          }\n",
        "\n",
        "# model = RandomizedSearchCV(knn, params, random_state=123, n_jobs = 1, n_iter = 5, cv = 2, scoring=\"roc_auc\")\n",
        "best_params = {'algorithm': 'kd_tree', 'leaf_size': 30, 'metric': 'minkowski', 'metric_params': None, 'n_jobs': None, 'n_neighbors': 15, 'p': 2, 'weights': 'uniform'}\n",
        "model = KNeighborsClassifier(algorithm='kd_tree', leaf_size= 30, metric= 'minkowski', metric_params= None, n_jobs= None, n_neighbors= 15, p= 2, weights='uniform')"
      ],
      "metadata": {
        "id": "v_ZPNZCcOZtm"
      },
      "execution_count": null,
      "outputs": []
    },
    {
      "cell_type": "markdown",
      "source": [
        "## Entreno el modelo"
      ],
      "metadata": {
        "id": "SCMRsI8mPSaJ"
      }
    },
    {
      "cell_type": "code",
      "source": [
        "model.fit(x_train, y_train)"
      ],
      "metadata": {
        "id": "yNKnU-kHPVJw",
        "colab": {
          "base_uri": "https://localhost:8080/"
        },
        "outputId": "2d88fcb6-b706-4f5a-fc81-d76095047a82"
      },
      "execution_count": null,
      "outputs": [
        {
          "output_type": "execute_result",
          "data": {
            "text/plain": [
              "KNeighborsClassifier(algorithm='kd_tree', n_neighbors=15)"
            ]
          },
          "metadata": {},
          "execution_count": 11
        }
      ]
    },
    {
      "cell_type": "markdown",
      "source": [
        "Mejores hiperparametros encontrados"
      ],
      "metadata": {
        "id": "6rc_43uFPd9m"
      }
    },
    {
      "cell_type": "code",
      "source": [
        "# best_params = model.best_estimator_.get_params()\n",
        "# best_params"
      ],
      "metadata": {
        "id": "X0eQzpZ-Pekq"
      },
      "execution_count": null,
      "outputs": []
    },
    {
      "cell_type": "markdown",
      "source": [
        "## Scores"
      ],
      "metadata": {
        "id": "eqcfX9LePalc"
      }
    },
    {
      "cell_type": "markdown",
      "source": [
        "Calculo el score para el set de entrenamiento"
      ],
      "metadata": {
        "id": "qwY7aAwLPh1e"
      }
    },
    {
      "cell_type": "code",
      "source": [
        "roc_auc_score(y_train, model.predict_proba(x_train)[:,1])"
      ],
      "metadata": {
        "id": "Z_n-ZCRDPZ6m",
        "colab": {
          "base_uri": "https://localhost:8080/"
        },
        "outputId": "6a2effbe-1f3c-44f9-fc7d-4bcedb79308e"
      },
      "execution_count": null,
      "outputs": [
        {
          "output_type": "execute_result",
          "data": {
            "text/plain": [
              "0.9407597999400508"
            ]
          },
          "metadata": {},
          "execution_count": 12
        }
      ]
    },
    {
      "cell_type": "markdown",
      "source": [
        "Calculo el score para el set de test:"
      ],
      "metadata": {
        "id": "L1UabcqGPjZW"
      }
    },
    {
      "cell_type": "code",
      "source": [
        "roc_auc_score(y_test, model.predict_proba(x_test)[:,1])"
      ],
      "metadata": {
        "id": "Hh3U4aMOPk-A",
        "colab": {
          "base_uri": "https://localhost:8080/"
        },
        "outputId": "ed00c761-a561-4754-aae1-2064eef53cf5"
      },
      "execution_count": null,
      "outputs": [
        {
          "output_type": "execute_result",
          "data": {
            "text/plain": [
              "0.8861750881136922"
            ]
          },
          "metadata": {},
          "execution_count": 13
        }
      ]
    },
    {
      "cell_type": "markdown",
      "source": [
        "## Matriz de Confusión"
      ],
      "metadata": {
        "id": "0dvH4dBwPo4c"
      }
    },
    {
      "cell_type": "code",
      "source": [
        "C = confusion_matrix(y_test, model.predict(x_test))  \n",
        "plt.figure(figsize=(15,8))\n",
        "labels = [0,1]\n",
        "sns.heatmap(C, annot=True, cmap=\"Blues\", fmt=\"d\", xticklabels=labels, yticklabels=labels, annot_kws={'size': 15})\n",
        "plt.xlabel('Predicted Values', fontsize=18, fontweight='bold')\n",
        "plt.ylabel('Original Values', fontsize=18, fontweight='bold')\n",
        "plt.title(\"Confusion matrix\", fontsize = 18, fontweight='bold')"
      ],
      "metadata": {
        "id": "z0x8dMpFPpYF",
        "colab": {
          "base_uri": "https://localhost:8080/",
          "height": 542
        },
        "outputId": "8086e970-cebd-4095-a88d-64c0abb65ee7"
      },
      "execution_count": null,
      "outputs": [
        {
          "output_type": "execute_result",
          "data": {
            "text/plain": [
              "Text(0.5, 1.0, 'Confusion matrix')"
            ]
          },
          "metadata": {},
          "execution_count": 14
        },
        {
          "output_type": "display_data",
          "data": {
            "text/plain": [
              "<Figure size 1080x576 with 2 Axes>"
            ],
            "image/png": "[encoded data removed]"
          },
          "metadata": {
            "needs_background": "light"
          }
        }
      ]
    }
  ]
}